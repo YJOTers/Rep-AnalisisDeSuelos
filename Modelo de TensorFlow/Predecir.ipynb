{
 "cells": [
  {
   "cell_type": "code",
   "execution_count": 2,
   "id": "e167760c",
   "metadata": {},
   "outputs": [],
   "source": [
    "import numpy as np\n",
    "from keras.preprocessing.image import load_img, img_to_array\n",
    "from keras.models import load_model"
   ]
  },
  {
   "cell_type": "code",
   "execution_count": 11,
   "id": "0773ac50",
   "metadata": {},
   "outputs": [],
   "source": [
    "longitud, altura = 200, 200\n",
    "modelo = '.\\Model\\modelo.h5'\n",
    "cnn = load_model(modelo)\n",
    "\n",
    "def predict(file):\n",
    "  x = load_img(file, target_size=(altura, longitud))\n",
    "  x = img_to_array(x)\n",
    "  x = np.expand_dims(x, axis=0)\n",
    "  array = cnn.predict(x) \n",
    "  result = array[0]\n",
    "  answer = np.argmax(result)\n",
    "  if answer == 0:\n",
    "    print(\"amarillo\") \n",
    "  elif answer == 1:\n",
    "    print(\"blanco\")\n",
    "  elif answer == 2:\n",
    "    print(\"gris\")\n",
    "  elif answer == 3:\n",
    "    print(\"marron\")\n",
    "  elif answer == 4:\n",
    "    print(\"rojo\")\n",
    "\n",
    "  return answer"
   ]
  },
  {
   "cell_type": "code",
   "execution_count": 13,
   "id": "12b49806",
   "metadata": {},
   "outputs": [
    {
     "name": "stdout",
     "output_type": "stream",
     "text": [
      "amarillo\n",
      "blanco\n",
      "gris\n",
      "marron\n",
      "rojo\n",
      "blanco\n",
      "blanco\n",
      "marron\n",
      "marron\n",
      "marron\n",
      "amarillo\n",
      "blanco\n",
      "blanco\n",
      "marron\n",
      "rojo\n"
     ]
    },
    {
     "data": {
      "text/plain": [
       "4"
      ]
     },
     "execution_count": 13,
     "metadata": {},
     "output_type": "execute_result"
    }
   ],
   "source": [
    "predict('.\\Test\\Amarillo 3.jpg')\n",
    "predict('.\\Test\\Blanco 3.jpg')\n",
    "predict('.\\Test\\Gris 3.jpg')\n",
    "predict('.\\Test\\Marron 3.jpg')\n",
    "predict('.\\Test\\Rojo 3.jpg')\n",
    "predict('.\\Test\\Amarillo 2.jpg')\n",
    "predict('.\\Test\\Blanco 2.jpg')\n",
    "predict('.\\Test\\Gris 2.jpg')\n",
    "predict('.\\Test\\Marron 2.jpg')\n",
    "predict('.\\Test\\Rojo 2.jpg')\n",
    "predict('.\\Test\\Amarillo 1.jpg')\n",
    "predict('.\\Test\\Blanco 1.jpg')\n",
    "predict('.\\Test\\Gris 1.jpg')\n",
    "predict('.\\Test\\Marron 1.jpg')\n",
    "predict('.\\Test\\Rojo 1.jpg')"
   ]
  }
 ],
 "metadata": {
  "kernelspec": {
   "display_name": "Python 3",
   "language": "python",
   "name": "python3"
  },
  "language_info": {
   "codemirror_mode": {
    "name": "ipython",
    "version": 3
   },
   "file_extension": ".py",
   "mimetype": "text/x-python",
   "name": "python",
   "nbconvert_exporter": "python",
   "pygments_lexer": "ipython3",
   "version": "3.9.9"
  }
 },
 "nbformat": 4,
 "nbformat_minor": 5
}
